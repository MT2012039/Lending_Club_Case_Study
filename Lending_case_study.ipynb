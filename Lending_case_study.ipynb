{
 "cells": [
  {
   "cell_type": "code",
   "execution_count": 92,
   "id": "838b9cc6",
   "metadata": {},
   "outputs": [],
   "source": [
    "import pandas as pd\n",
    "import matplotlib.pyplot as plt\n",
    "import seaborn as sns"
   ]
  },
  {
   "cell_type": "code",
   "execution_count": 93,
   "id": "77e835ea",
   "metadata": {},
   "outputs": [],
   "source": [
    "#Read the csv\n",
    "df = pd.read_csv('loan.csv',encoding = \"ISO-8859-1\", low_memory=False)"
   ]
  },
  {
   "cell_type": "code",
   "execution_count": 94,
   "id": "39d050cf",
   "metadata": {},
   "outputs": [
    {
     "data": {
      "text/plain": [
       "(39717, 111)"
      ]
     },
     "execution_count": 94,
     "metadata": {},
     "output_type": "execute_result"
    }
   ],
   "source": [
    "#Shape of the dataframe\n",
    "df.shape"
   ]
  },
  {
   "cell_type": "code",
   "execution_count": 95,
   "id": "b8b8a042",
   "metadata": {
    "scrolled": true
   },
   "outputs": [
    {
     "data": {
      "text/plain": [
       "Index(['id', 'member_id', 'loan_amnt', 'funded_amnt', 'funded_amnt_inv',\n",
       "       'term', 'int_rate', 'installment', 'grade', 'sub_grade',\n",
       "       ...\n",
       "       'num_tl_90g_dpd_24m', 'num_tl_op_past_12m', 'pct_tl_nvr_dlq',\n",
       "       'percent_bc_gt_75', 'pub_rec_bankruptcies', 'tax_liens',\n",
       "       'tot_hi_cred_lim', 'total_bal_ex_mort', 'total_bc_limit',\n",
       "       'total_il_high_credit_limit'],\n",
       "      dtype='object', length=111)"
      ]
     },
     "execution_count": 95,
     "metadata": {},
     "output_type": "execute_result"
    }
   ],
   "source": [
    "#colmns\n",
    "df.columns"
   ]
  },
  {
   "cell_type": "code",
   "execution_count": 96,
   "id": "a020d56e",
   "metadata": {},
   "outputs": [],
   "source": [
    "missing_columns = df.isnull().sum() / len(df.id)"
   ]
  },
  {
   "cell_type": "code",
   "execution_count": 97,
   "id": "fe1149b7",
   "metadata": {},
   "outputs": [],
   "source": [
    "#columns with 50% missing\n",
    "missing_colums_50 = df.columns[(df.isnull().sum() / len(df.id)) > 0.5]"
   ]
  },
  {
   "cell_type": "code",
   "execution_count": 98,
   "id": "c4706972",
   "metadata": {},
   "outputs": [
    {
     "data": {
      "text/plain": [
       "Index(['mths_since_last_delinq', 'mths_since_last_record', 'next_pymnt_d',\n",
       "       'mths_since_last_major_derog', 'annual_inc_joint', 'dti_joint',\n",
       "       'verification_status_joint', 'tot_coll_amt', 'tot_cur_bal',\n",
       "       'open_acc_6m', 'open_il_6m', 'open_il_12m', 'open_il_24m',\n",
       "       'mths_since_rcnt_il', 'total_bal_il', 'il_util', 'open_rv_12m',\n",
       "       'open_rv_24m', 'max_bal_bc', 'all_util', 'total_rev_hi_lim', 'inq_fi',\n",
       "       'total_cu_tl', 'inq_last_12m', 'acc_open_past_24mths', 'avg_cur_bal',\n",
       "       'bc_open_to_buy', 'bc_util', 'mo_sin_old_il_acct',\n",
       "       'mo_sin_old_rev_tl_op', 'mo_sin_rcnt_rev_tl_op', 'mo_sin_rcnt_tl',\n",
       "       'mort_acc', 'mths_since_recent_bc', 'mths_since_recent_bc_dlq',\n",
       "       'mths_since_recent_inq', 'mths_since_recent_revol_delinq',\n",
       "       'num_accts_ever_120_pd', 'num_actv_bc_tl', 'num_actv_rev_tl',\n",
       "       'num_bc_sats', 'num_bc_tl', 'num_il_tl', 'num_op_rev_tl',\n",
       "       'num_rev_accts', 'num_rev_tl_bal_gt_0', 'num_sats', 'num_tl_120dpd_2m',\n",
       "       'num_tl_30dpd', 'num_tl_90g_dpd_24m', 'num_tl_op_past_12m',\n",
       "       'pct_tl_nvr_dlq', 'percent_bc_gt_75', 'tot_hi_cred_lim',\n",
       "       'total_bal_ex_mort', 'total_bc_limit', 'total_il_high_credit_limit'],\n",
       "      dtype='object')"
      ]
     },
     "execution_count": 98,
     "metadata": {},
     "output_type": "execute_result"
    }
   ],
   "source": [
    "missing_colums_50"
   ]
  },
  {
   "cell_type": "code",
   "execution_count": 99,
   "id": "01710674",
   "metadata": {},
   "outputs": [],
   "source": [
    "#dropping columns with atleast 50% missing values\n",
    "df = df.drop(missing_colums_50, axis=1)"
   ]
  },
  {
   "cell_type": "code",
   "execution_count": 100,
   "id": "e842a50f",
   "metadata": {},
   "outputs": [
    {
     "data": {
      "text/plain": [
       "(39717, 54)"
      ]
     },
     "execution_count": 100,
     "metadata": {},
     "output_type": "execute_result"
    }
   ],
   "source": [
    "df.shape"
   ]
  },
  {
   "cell_type": "code",
   "execution_count": 101,
   "id": "a78b361b",
   "metadata": {},
   "outputs": [],
   "source": [
    "#refinding the missing columns\n",
    "missing_columns = df.isnull().sum() / len(df.id)"
   ]
  },
  {
   "cell_type": "code",
   "execution_count": 102,
   "id": "53515866",
   "metadata": {
    "scrolled": true
   },
   "outputs": [
    {
     "data": {
      "text/plain": [
       "emp_title                     0.061913\n",
       "emp_length                    0.027066\n",
       "desc                          0.325855\n",
       "title                         0.000277\n",
       "revol_util                    0.001259\n",
       "last_pymnt_d                  0.001788\n",
       "last_credit_pull_d            0.000050\n",
       "collections_12_mths_ex_med    0.001410\n",
       "chargeoff_within_12_mths      0.001410\n",
       "pub_rec_bankruptcies          0.017549\n",
       "tax_liens                     0.000982\n",
       "dtype: float64"
      ]
     },
     "execution_count": 102,
     "metadata": {},
     "output_type": "execute_result"
    }
   ],
   "source": [
    "#all colummns with missing values\n",
    "missing_columns[missing_columns > 0]"
   ]
  },
  {
   "cell_type": "code",
   "execution_count": 103,
   "id": "0f9b210e",
   "metadata": {},
   "outputs": [],
   "source": [
    "#dropping desc which has more than 30% missing\n",
    "df = df.drop('desc',axis=1)"
   ]
  },
  {
   "cell_type": "code",
   "execution_count": 104,
   "id": "267e6598",
   "metadata": {},
   "outputs": [
    {
     "data": {
      "text/plain": [
       "(39717, 53)"
      ]
     },
     "execution_count": 104,
     "metadata": {},
     "output_type": "execute_result"
    }
   ],
   "source": [
    "df.shape"
   ]
  },
  {
   "cell_type": "code",
   "execution_count": 105,
   "id": "0f72a470",
   "metadata": {},
   "outputs": [
    {
     "data": {
      "text/plain": [
       "(39717, 52)"
      ]
     },
     "execution_count": 105,
     "metadata": {},
     "output_type": "execute_result"
    }
   ],
   "source": [
    "#Removing rows with null emp_title\n",
    "df = df.drop('emp_title',axis=1)\n",
    "df.shape"
   ]
  },
  {
   "cell_type": "code",
   "execution_count": 106,
   "id": "6276379a",
   "metadata": {},
   "outputs": [
    {
     "data": {
      "text/plain": [
       "count         38642\n",
       "unique           11\n",
       "top       10+ years\n",
       "freq           8879\n",
       "Name: emp_length, dtype: object"
      ]
     },
     "execution_count": 106,
     "metadata": {},
     "output_type": "execute_result"
    }
   ],
   "source": [
    "df['emp_length'].describe()"
   ]
  },
  {
   "cell_type": "code",
   "execution_count": 107,
   "id": "47d705a5",
   "metadata": {},
   "outputs": [
    {
     "data": {
      "text/plain": [
       "emp_length\n",
       "10+ years    8879\n",
       "< 1 year     4583\n",
       "2 years      4388\n",
       "3 years      4095\n",
       "4 years      3436\n",
       "5 years      3282\n",
       "1 year       3240\n",
       "6 years      2229\n",
       "7 years      1773\n",
       "8 years      1479\n",
       "9 years      1258\n",
       "Name: count, dtype: int64"
      ]
     },
     "execution_count": 107,
     "metadata": {},
     "output_type": "execute_result"
    }
   ],
   "source": [
    "df['emp_length'].value_counts()"
   ]
  },
  {
   "cell_type": "code",
   "execution_count": 108,
   "id": "47611cfe",
   "metadata": {},
   "outputs": [],
   "source": [
    "emp_length_conversions = {\n",
    "    '< 1 year' : 0,\n",
    "    '1 year' : 1,\n",
    "    '2 years' : 2,\n",
    "    '3 years' : 3,\n",
    "    '4 years' : 4,\n",
    "    '5 years' : 5,\n",
    "    '6 years' : 6,\n",
    "    '7 years' : 7,\n",
    "    '8 years' : 8,\n",
    "    '9 years' : 9,\n",
    "    '10+ years' : 10\n",
    "}"
   ]
  },
  {
   "cell_type": "code",
   "execution_count": 109,
   "id": "d6bd2791",
   "metadata": {},
   "outputs": [],
   "source": [
    "#converting the emp_length to numeric values for analysis\n",
    "df = df.replace({\"emp_length\": emp_length_conversions })"
   ]
  },
  {
   "cell_type": "code",
   "execution_count": 110,
   "id": "03fb682b",
   "metadata": {},
   "outputs": [
    {
     "data": {
      "text/plain": [
       "emp_length\n",
       "10.0    8879\n",
       "0.0     4583\n",
       "2.0     4388\n",
       "3.0     4095\n",
       "4.0     3436\n",
       "5.0     3282\n",
       "1.0     3240\n",
       "6.0     2229\n",
       "7.0     1773\n",
       "8.0     1479\n",
       "9.0     1258\n",
       "Name: count, dtype: int64"
      ]
     },
     "execution_count": 110,
     "metadata": {},
     "output_type": "execute_result"
    }
   ],
   "source": [
    "df['emp_length'].value_counts()"
   ]
  },
  {
   "cell_type": "code",
   "execution_count": 111,
   "id": "a99f9b5a",
   "metadata": {},
   "outputs": [
    {
     "data": {
      "text/plain": [
       "count    38642.000000\n",
       "mean         4.973449\n",
       "std          3.562580\n",
       "min          0.000000\n",
       "25%          2.000000\n",
       "50%          4.000000\n",
       "75%          9.000000\n",
       "max         10.000000\n",
       "Name: emp_length, dtype: float64"
      ]
     },
     "execution_count": 111,
     "metadata": {},
     "output_type": "execute_result"
    }
   ],
   "source": [
    "df['emp_length'].describe()"
   ]
  },
  {
   "cell_type": "code",
   "execution_count": 112,
   "id": "22aa75ca",
   "metadata": {},
   "outputs": [],
   "source": [
    "#filling missing values with median\n",
    "df['emp_length'] = df['emp_length'].fillna('4')"
   ]
  },
  {
   "cell_type": "code",
   "execution_count": 113,
   "id": "bbedc9a2",
   "metadata": {},
   "outputs": [
    {
     "data": {
      "text/plain": [
       "count     39717.0\n",
       "unique       12.0\n",
       "top          10.0\n",
       "freq       8879.0\n",
       "Name: emp_length, dtype: float64"
      ]
     },
     "execution_count": 113,
     "metadata": {},
     "output_type": "execute_result"
    }
   ],
   "source": [
    "df['emp_length'].describe()"
   ]
  },
  {
   "cell_type": "code",
   "execution_count": 114,
   "id": "f24ddccb",
   "metadata": {},
   "outputs": [
    {
     "data": {
      "text/plain": [
       "0"
      ]
     },
     "execution_count": 114,
     "metadata": {},
     "output_type": "execute_result"
    }
   ],
   "source": [
    "#confirming no missing values in emp_length\n",
    "df['emp_length'].isnull().sum()"
   ]
  },
  {
   "cell_type": "code",
   "execution_count": 115,
   "id": "7832098d",
   "metadata": {},
   "outputs": [
    {
     "data": {
      "text/plain": [
       "emp_length\n",
       "10.0    8879\n",
       "0.0     4583\n",
       "2.0     4388\n",
       "3.0     4095\n",
       "4.0     3436\n",
       "5.0     3282\n",
       "1.0     3240\n",
       "6.0     2229\n",
       "7.0     1773\n",
       "8.0     1479\n",
       "9.0     1258\n",
       "4       1075\n",
       "Name: count, dtype: int64"
      ]
     },
     "execution_count": 115,
     "metadata": {},
     "output_type": "execute_result"
    }
   ],
   "source": [
    "df['emp_length'].value_counts()"
   ]
  },
  {
   "cell_type": "code",
   "execution_count": 116,
   "id": "a9ff98dc",
   "metadata": {},
   "outputs": [
    {
     "data": {
      "text/plain": [
       "title                         0.000277\n",
       "revol_util                    0.001259\n",
       "last_pymnt_d                  0.001788\n",
       "last_credit_pull_d            0.000050\n",
       "collections_12_mths_ex_med    0.001410\n",
       "chargeoff_within_12_mths      0.001410\n",
       "pub_rec_bankruptcies          0.017549\n",
       "tax_liens                     0.000982\n",
       "dtype: float64"
      ]
     },
     "execution_count": 116,
     "metadata": {},
     "output_type": "execute_result"
    }
   ],
   "source": [
    "#Finding remaining missing columns\n",
    "missing_columns = df.isnull().sum() / len(df.id)\n",
    "missing_columns = missing_columns[missing_columns > 0]\n",
    "missing_columns"
   ]
  },
  {
   "cell_type": "code",
   "execution_count": 117,
   "id": "f1cf13b7",
   "metadata": {},
   "outputs": [],
   "source": [
    "#Analysing pub_rec_bankruptcies which is the next highest missing columns\n",
    "df['pub_rec_bankruptcies'].value_counts()\n",
    "#Highest received bankruptcies are 0 hence replacing null with 0\n",
    "df['pub_rec_bankruptcies'] = df['pub_rec_bankruptcies'].fillna(0)\n",
    "df['pub_rec_bankruptcies'] = df['pub_rec_bankruptcies'].astype(int)"
   ]
  },
  {
   "cell_type": "code",
   "execution_count": 118,
   "id": "7398b9d0",
   "metadata": {},
   "outputs": [],
   "source": [
    "#Analysing the missing values in last_pymnt_d\n",
    "df['last_pymnt_d'].value_counts()\n",
    "#removing the rows with null values in last_payment_date as these are mostly invalid rows\n",
    "df = df[~df['last_pymnt_d'].isnull()]\n",
    "#Converting the \n",
    "df['last_pymnt_d'] = pd.to_datetime(df['last_pymnt_d'],format='%b-%y')"
   ]
  },
  {
   "cell_type": "code",
   "execution_count": 119,
   "id": "598be253",
   "metadata": {},
   "outputs": [],
   "source": [
    "#Analysing the missing values in collections_12_mths_ex_med\n",
    "df['collections_12_mths_ex_med'].value_counts()\n",
    "#All values are either 0 or null dropping this column\n",
    "df = df.drop('collections_12_mths_ex_med',axis=1)"
   ]
  },
  {
   "cell_type": "code",
   "execution_count": 120,
   "id": "c3358dc1",
   "metadata": {},
   "outputs": [],
   "source": [
    "#Analysing the missing values in chargeoff_within_12_mths\n",
    "df['chargeoff_within_12_mths'].value_counts()\n",
    "#All values are either 0 or null dropping this column\n",
    "df = df.drop('chargeoff_within_12_mths',axis=1)"
   ]
  },
  {
   "cell_type": "code",
   "execution_count": 121,
   "id": "e28c5c30",
   "metadata": {},
   "outputs": [],
   "source": [
    "#Analysing the missing values in revol_util\n",
    "df['revol_util'].value_counts()\n",
    "#Since most are 0% changing the null value to 0%\n",
    "df['revol_util'] = df['revol_util'].fillna('0%')\n",
    "#Changing the number to float after removing %\n",
    "df['revol_util'] = df['revol_util'].str[:-1].astype(float)"
   ]
  },
  {
   "cell_type": "code",
   "execution_count": 122,
   "id": "7d427a4d",
   "metadata": {},
   "outputs": [],
   "source": [
    "#Analysing the missing values in tax_lien\n",
    "df['tax_liens'].value_counts()\n",
    "#All values are either 0 or null dropping this column\n",
    "df = df.drop('tax_liens',axis=1)"
   ]
  },
  {
   "cell_type": "code",
   "execution_count": 123,
   "id": "09bf5a8e",
   "metadata": {},
   "outputs": [],
   "source": [
    "#Analysing the missing values in title\n",
    "df['title'].value_counts()\n",
    "#Removing rows with null title\n",
    "df = df[~df['title'].isnull()]"
   ]
  },
  {
   "cell_type": "code",
   "execution_count": 124,
   "id": "41b9e872",
   "metadata": {},
   "outputs": [],
   "source": [
    "one_unique_columns = df.columns[df.nunique() == 1]"
   ]
  },
  {
   "cell_type": "code",
   "execution_count": 125,
   "id": "836c1d48",
   "metadata": {},
   "outputs": [
    {
     "data": {
      "text/plain": [
       "Index(['pymnt_plan', 'initial_list_status', 'policy_code', 'application_type',\n",
       "       'acc_now_delinq', 'delinq_amnt'],\n",
       "      dtype='object')"
      ]
     },
     "execution_count": 125,
     "metadata": {},
     "output_type": "execute_result"
    }
   ],
   "source": [
    "one_unique_columns"
   ]
  },
  {
   "cell_type": "code",
   "execution_count": 126,
   "id": "9417f9f7",
   "metadata": {},
   "outputs": [],
   "source": [
    "#removing all columns with all unique values as that wont be usefil in analysis\n",
    "df = df.drop(one_unique_columns, axis=1)"
   ]
  },
  {
   "cell_type": "code",
   "execution_count": 127,
   "id": "8c5457d4",
   "metadata": {},
   "outputs": [
    {
     "data": {
      "text/plain": [
       "(39635, 43)"
      ]
     },
     "execution_count": 127,
     "metadata": {},
     "output_type": "execute_result"
    }
   ],
   "source": [
    "df.shape"
   ]
  },
  {
   "cell_type": "code",
   "execution_count": 128,
   "id": "5313bf42",
   "metadata": {},
   "outputs": [
    {
     "data": {
      "text/plain": [
       "term                           2\n",
       "pub_rec_bankruptcies           3\n",
       "loan_status                    3\n",
       "verification_status            3\n",
       "pub_rec                        5\n",
       "home_ownership                 5\n",
       "grade                          7\n",
       "inq_last_6mths                 9\n",
       "delinq_2yrs                   11\n",
       "emp_length                    12\n",
       "purpose                       14\n",
       "sub_grade                     35\n",
       "open_acc                      40\n",
       "addr_state                    50\n",
       "issue_d                       55\n",
       "total_acc                     82\n",
       "last_pymnt_d                 101\n",
       "last_credit_pull_d           106\n",
       "int_rate                     371\n",
       "earliest_cr_line             526\n",
       "zip_code                     823\n",
       "loan_amnt                    885\n",
       "funded_amnt                 1041\n",
       "revol_util                  1089\n",
       "out_prncp                   1137\n",
       "out_prncp_inv               1138\n",
       "total_rec_late_fee          1356\n",
       "collection_recovery_fee     2597\n",
       "dti                         2868\n",
       "recoveries                  3987\n",
       "annual_inc                  5308\n",
       "total_rec_prncp             7974\n",
       "funded_amnt_inv             8202\n",
       "installment                15363\n",
       "title                      19586\n",
       "revol_bal                  21697\n",
       "last_pymnt_amnt            34923\n",
       "total_rec_int              35139\n",
       "total_pymnt_inv            37453\n",
       "total_pymnt                37785\n",
       "url                        39635\n",
       "member_id                  39635\n",
       "id                         39635\n",
       "dtype: int64"
      ]
     },
     "execution_count": 128,
     "metadata": {},
     "output_type": "execute_result"
    }
   ],
   "source": [
    "df.nunique().sort_values()"
   ]
  },
  {
   "cell_type": "code",
   "execution_count": 129,
   "id": "58cdcb95",
   "metadata": {},
   "outputs": [
    {
     "data": {
      "text/plain": [
       "term\n",
       " 36 months    29036\n",
       " 60 months    10599\n",
       "Name: count, dtype: int64"
      ]
     },
     "execution_count": 129,
     "metadata": {},
     "output_type": "execute_result"
    }
   ],
   "source": [
    "df['term'].value_counts()"
   ]
  },
  {
   "cell_type": "code",
   "execution_count": 130,
   "id": "070eebcb",
   "metadata": {},
   "outputs": [],
   "source": [
    "categorical_columns = df.columns[df.nunique() < 20]"
   ]
  },
  {
   "cell_type": "code",
   "execution_count": 131,
   "id": "67dce251",
   "metadata": {},
   "outputs": [
    {
     "data": {
      "text/plain": [
       "Index(['term', 'grade', 'emp_length', 'home_ownership', 'verification_status',\n",
       "       'loan_status', 'purpose', 'delinq_2yrs', 'inq_last_6mths', 'pub_rec',\n",
       "       'pub_rec_bankruptcies'],\n",
       "      dtype='object')"
      ]
     },
     "execution_count": 131,
     "metadata": {},
     "output_type": "execute_result"
    }
   ],
   "source": [
    "#finding all categorical columns\n",
    "categorical_columns"
   ]
  },
  {
   "cell_type": "code",
   "execution_count": 132,
   "id": "56f31ae4",
   "metadata": {},
   "outputs": [],
   "source": [
    "#Fixing the quantitative variables\n",
    "#Fixing interest rates\n",
    "df['int_rate'] = df['int_rate'].str[:-1].astype(float)\n"
   ]
  },
  {
   "cell_type": "code",
   "execution_count": 133,
   "id": "3072a59a",
   "metadata": {},
   "outputs": [
    {
     "data": {
      "text/plain": [
       "0       2016-05-01\n",
       "1       2013-09-01\n",
       "2       2016-05-01\n",
       "3       2016-04-01\n",
       "4       2016-05-01\n",
       "           ...    \n",
       "39712   2010-06-01\n",
       "39713   2010-07-01\n",
       "39714   2007-06-01\n",
       "39715   2007-06-01\n",
       "39716   2010-06-01\n",
       "Name: last_credit_pull_d, Length: 39635, dtype: datetime64[ns]"
      ]
     },
     "execution_count": 133,
     "metadata": {},
     "output_type": "execute_result"
    }
   ],
   "source": [
    "#Fixing last_credit_pull_d converting to datetime\n",
    "df['last_credit_pull_d'] = pd.to_datetime(df['last_credit_pull_d'],format='%b-%y')\n",
    "df['last_credit_pull_d']"
   ]
  },
  {
   "cell_type": "code",
   "execution_count": 134,
   "id": "2c710b50",
   "metadata": {},
   "outputs": [],
   "source": [
    "#Removing memberid,id,url columns whiah has all unique values won't contribute to analysis\n",
    "df = df.drop(['member_id','url','id'],axis=1)"
   ]
  },
  {
   "cell_type": "code",
   "execution_count": null,
   "id": "43096921",
   "metadata": {},
   "outputs": [],
   "source": []
  },
  {
   "cell_type": "code",
   "execution_count": 135,
   "id": "9170f106",
   "metadata": {},
   "outputs": [
    {
     "data": {
      "text/plain": [
       "0         Fully Paid\n",
       "1        Charged Off\n",
       "2         Fully Paid\n",
       "3         Fully Paid\n",
       "4            Current\n",
       "            ...     \n",
       "39712     Fully Paid\n",
       "39713     Fully Paid\n",
       "39714     Fully Paid\n",
       "39715     Fully Paid\n",
       "39716     Fully Paid\n",
       "Name: loan_status, Length: 39635, dtype: object"
      ]
     },
     "execution_count": 135,
     "metadata": {},
     "output_type": "execute_result"
    }
   ],
   "source": [
    "df['loan_status']"
   ]
  },
  {
   "cell_type": "code",
   "execution_count": 136,
   "id": "ad06cec4",
   "metadata": {},
   "outputs": [
    {
     "data": {
      "text/plain": [
       "0            RENT\n",
       "1            RENT\n",
       "2            RENT\n",
       "3            RENT\n",
       "4            RENT\n",
       "           ...   \n",
       "39712    MORTGAGE\n",
       "39713        RENT\n",
       "39714    MORTGAGE\n",
       "39715    MORTGAGE\n",
       "39716         OWN\n",
       "Name: home_ownership, Length: 39635, dtype: object"
      ]
     },
     "execution_count": 136,
     "metadata": {},
     "output_type": "execute_result"
    }
   ],
   "source": [
    "df['home_ownership']"
   ]
  },
  {
   "cell_type": "code",
   "execution_count": 137,
   "id": "8da96c71",
   "metadata": {},
   "outputs": [
    {
     "data": {
      "image/png": "[encoded data removed]",
      "text/plain": [
       "<Figure size 640x480 with 1 Axes>"
      ]
     },
     "metadata": {},
     "output_type": "display_data"
    }
   ],
   "source": [
    "####Univariate Analysis start###\n",
    "##Quantitative variables####\n",
    "df['loan_amnt'].describe()\n",
    "plt.boxplot(df['loan_amnt'])\n",
    "plt.show()\n",
    "\n",
    "#Median loan amount is around 10K , outliers lie in the range of 30k to 35K\n"
   ]
  },
  {
   "cell_type": "code",
   "execution_count": 138,
   "id": "9b9a9378",
   "metadata": {},
   "outputs": [
    {
     "data": {
      "text/plain": [
       "2.086539674530087"
      ]
     },
     "execution_count": 138,
     "metadata": {},
     "output_type": "execute_result"
    }
   ],
   "source": [
    "#Find percentage outliers in loan_amount\n",
    "df_loan_outlier = df[df['loan_amnt'] > 30000]\n",
    "\n",
    "len(df_loan_outlier)/len(df) * 100\n",
    "\n",
    "# 2% outliers in the loan disbursed"
   ]
  },
  {
   "cell_type": "code",
   "execution_count": 139,
   "id": "6ae830be",
   "metadata": {},
   "outputs": [
    {
     "data": {
      "text/plain": [
       "count    39635.000000\n",
       "mean     10953.029519\n",
       "std       7185.814618\n",
       "min        500.000000\n",
       "25%       5400.000000\n",
       "50%       9600.000000\n",
       "75%      15000.000000\n",
       "max      35000.000000\n",
       "Name: funded_amnt, dtype: float64"
      ]
     },
     "execution_count": 139,
     "metadata": {},
     "output_type": "execute_result"
    }
   ],
   "source": [
    "df['funded_amnt'].describe()\n",
    "#funded amount distribution is similar to loan amount"
   ]
  },
  {
   "cell_type": "code",
   "execution_count": 140,
   "id": "df034a74",
   "metadata": {},
   "outputs": [
    {
     "data": {
      "text/plain": [
       "235000.0"
      ]
     },
     "execution_count": 140,
     "metadata": {},
     "output_type": "execute_result"
    }
   ],
   "source": [
    "df['annual_inc'].describe()\n",
    "##Too many outliers in annual income . Remove rows with annual income greater than 99% \n",
    "df['annual_inc'].quantile(.99)\n",
    "##230K is the 99th percentile of annual income while the median is 10k.\n"
   ]
  },
  {
   "cell_type": "code",
   "execution_count": 141,
   "id": "7932fc36",
   "metadata": {},
   "outputs": [
    {
     "data": {
      "image/png": "[encoded data removed]",
      "text/plain": [
       "<Figure size 640x480 with 1 Axes>"
      ]
     },
     "metadata": {},
     "output_type": "display_data"
    }
   ],
   "source": [
    "##Removing rows with annual income greater than 200K \n",
    "df = df[df['annual_inc'] < 200000]\n",
    "df['annual_inc'].describe()\n",
    "plt.boxplot(df['annual_inc'])\n",
    "plt.show()\n",
    "\n",
    "##After removal of very income salaries the box plot of annual income \n",
    "##Median range is 6k\n",
    "##Salary of around 150k is at the higher ranges .. greater than 150K are outliers"
   ]
  },
  {
   "cell_type": "code",
   "execution_count": 142,
   "id": "da0df102",
   "metadata": {},
   "outputs": [
    {
     "data": {
      "text/plain": [
       "count    38927.000000\n",
       "mean     12003.941123\n",
       "std       8872.339565\n",
       "min         33.730000\n",
       "25%       5560.615771\n",
       "50%       9797.777982\n",
       "75%      16347.046130\n",
       "max      58563.679930\n",
       "Name: total_pymnt, dtype: float64"
      ]
     },
     "execution_count": 142,
     "metadata": {},
     "output_type": "execute_result"
    }
   ],
   "source": [
    "##Analysing installment\n",
    "df['total_pymnt'].describe()"
   ]
  },
  {
   "cell_type": "code",
   "execution_count": 143,
   "id": "64518262",
   "metadata": {},
   "outputs": [
    {
     "data": {
      "image/png": "[encoded data removed]",
      "text/plain": [
       "<Figure size 640x480 with 1 Axes>"
      ]
     },
     "metadata": {},
     "output_type": "display_data"
    }
   ],
   "source": [
    "\n",
    "plt.boxplot(df['total_pymnt'])\n",
    "plt.show()"
   ]
  },
  {
   "cell_type": "code",
   "execution_count": 144,
   "id": "d8e0ee3d",
   "metadata": {},
   "outputs": [
    {
     "data": {
      "text/plain": [
       "count    38927.000000\n",
       "mean     11425.679051\n",
       "std       8772.639921\n",
       "min          0.000000\n",
       "25%       5091.185000\n",
       "50%       9201.930000\n",
       "75%      15575.770000\n",
       "max      58563.680000\n",
       "Name: total_pymnt_inv, dtype: float64"
      ]
     },
     "execution_count": 144,
     "metadata": {},
     "output_type": "execute_result"
    }
   ],
   "source": [
    "##Analysing installment\n",
    "df['total_pymnt_inv'].describe()\n"
   ]
  },
  {
   "cell_type": "code",
   "execution_count": 145,
   "id": "f03bb7db",
   "metadata": {},
   "outputs": [
    {
     "data": {
      "image/png": "[encoded data removed]",
      "text/plain": [
       "<Figure size 640x480 with 1 Axes>"
      ]
     },
     "metadata": {},
     "output_type": "display_data"
    }
   ],
   "source": [
    "plt.boxplot(df['total_pymnt_inv'])\n",
    "plt.show()\n",
    "\n",
    "#Both total_pymnt and total_pymnt_inv have similar values will use total_pymnt for analysis"
   ]
  },
  {
   "cell_type": "code",
   "execution_count": 146,
   "id": "7dbc29ca",
   "metadata": {},
   "outputs": [
    {
     "data": {
      "text/plain": [
       "count    38927.000000\n",
       "mean     12003.941660\n",
       "std       8872.339559\n",
       "min         34.000000\n",
       "25%       5560.500000\n",
       "50%       9798.000000\n",
       "75%      16347.000000\n",
       "max      58564.000000\n",
       "Name: total_pymnt, dtype: float64"
      ]
     },
     "execution_count": 146,
     "metadata": {},
     "output_type": "execute_result"
    }
   ],
   "source": [
    "df['total_pymnt'] = df['total_pymnt'].apply(lambda x : round(x))\n",
    "#Rounding off the total payment metric\n",
    "df['total_pymnt'].describe()"
   ]
  },
  {
   "cell_type": "code",
   "execution_count": 147,
   "id": "0c800571",
   "metadata": {},
   "outputs": [
    {
     "data": {
      "image/png": "[encoded data removed]",
      "text/plain": [
       "<Figure size 640x480 with 1 Axes>"
      ]
     },
     "metadata": {},
     "output_type": "display_data"
    }
   ],
   "source": [
    "#Lets analyse the interest rates\n",
    "df['int_rate'].describe()\n",
    "plt.boxplot(df['int_rate'])\n",
    "plt.show()\n",
    "##While median interest rates are around 11.5% most interest rates lies below 15%. There are few outliers abive 22.5%"
   ]
  },
  {
   "cell_type": "code",
   "execution_count": 148,
   "id": "fc88b0b9",
   "metadata": {},
   "outputs": [
    {
     "data": {
      "text/plain": [
       "(38853, 40)"
      ]
     },
     "execution_count": 148,
     "metadata": {},
     "output_type": "execute_result"
    }
   ],
   "source": [
    "#Calculate percentage of outliers in interest rates\n",
    "df_int_out = df[df['int_rate'] > 22.5]\n",
    "len(df_int_out)/len(df)\n",
    "#0.1 percent outliers in interest rates. Dropping outlier rows in interest rates\n",
    "df = df[df['int_rate'] < 22.5]\n",
    "df['int_rate'].describe()\n",
    "df.shape"
   ]
  },
  {
   "cell_type": "code",
   "execution_count": 149,
   "id": "9c25811a",
   "metadata": {},
   "outputs": [
    {
     "data": {
      "image/png": "[encoded data removed]",
      "text/plain": [
       "<Figure size 640x480 with 1 Axes>"
      ]
     },
     "metadata": {},
     "output_type": "display_data"
    }
   ],
   "source": [
    "#Univariate analysis of Categorical variable (Unordered)\n",
    "df['loan_status'].value_counts()\n",
    "plt.hist(df['loan_status'])\n",
    "plt.show()\n",
    "\n",
    "#Majority of the loans are fully paid, there are very few current loans\n",
    "#Around 13% loans are charged off"
   ]
  },
  {
   "cell_type": "code",
   "execution_count": 150,
   "id": "32ed5f29",
   "metadata": {
    "scrolled": true
   },
   "outputs": [
    {
     "data": {
      "image/png": "[encoded data removed]",
      "text/plain": [
       "<Figure size 640x480 with 1 Axes>"
      ]
     },
     "metadata": {},
     "output_type": "display_data"
    }
   ],
   "source": [
    "##Verification status###\n",
    "df['verification_status'].value_counts()\n",
    "plt.hist(df['verification_status'])\n",
    "plt.show()\n",
    "\n",
    "#Around 40% loans are there for which incomes are not verified.This might be a worrying sign for the company."
   ]
  },
  {
   "cell_type": "code",
   "execution_count": 151,
   "id": "3871e868",
   "metadata": {
    "scrolled": true
   },
   "outputs": [
    {
     "data": {
      "image/png": "[encoded data removed]",
      "text/plain": [
       "<Figure size 640x480 with 1 Axes>"
      ]
     },
     "metadata": {},
     "output_type": "display_data"
    }
   ],
   "source": [
    "df['purpose'].value_counts().plot.bar()\n",
    "plt.show()\n",
    "\n",
    "#Most loans are for debt_consolidation."
   ]
  },
  {
   "cell_type": "code",
   "execution_count": null,
   "id": "2fc6d010",
   "metadata": {},
   "outputs": [],
   "source": []
  },
  {
   "cell_type": "code",
   "execution_count": 152,
   "id": "b6a5c0ac",
   "metadata": {
    "scrolled": true
   },
   "outputs": [
    {
     "data": {
      "image/png": "[encoded data removed]",
      "text/plain": [
       "<Figure size 640x480 with 1 Axes>"
      ]
     },
     "metadata": {},
     "output_type": "display_data"
    }
   ],
   "source": [
    "df['term'].value_counts().plot.bar()\n",
    "plt.show()\n",
    "\n",
    "#70% loans are taken for 3 year period"
   ]
  },
  {
   "cell_type": "code",
   "execution_count": 153,
   "id": "ac9b440d",
   "metadata": {},
   "outputs": [
    {
     "data": {
      "image/png": "[encoded data removed]",
      "text/plain": [
       "<Figure size 640x480 with 1 Axes>"
      ]
     },
     "metadata": {},
     "output_type": "display_data"
    }
   ],
   "source": [
    "df['home_ownership'].value_counts().plot.bar()\n",
    "plt.show()\n",
    "\n",
    "#Only 6 percent of people applying for loans have own house.This is a deciding factor in loan disbursement"
   ]
  },
  {
   "cell_type": "code",
   "execution_count": 158,
   "id": "cdaa21eb",
   "metadata": {
    "scrolled": true
   },
   "outputs": [
    {
     "data": {
      "image/png": "[encoded data removed]",
      "text/plain": [
       "<Figure size 640x480 with 1 Axes>"
      ]
     },
     "metadata": {},
     "output_type": "display_data"
    }
   ],
   "source": [
    "###Univariate analysis for ordered categorical variables ######\n",
    "df['grade'].value_counts()\n",
    "df = df.sort_values(by='grade')\n",
    "sns.histplot(df['grade'])\n",
    "plt.show()\n",
    "\n",
    "##Most loans have grades A,B and C with maximum at B.The count increase from A to B and then decrease gradually.Very few loand oflow grades implies loans \n",
    "##are not aprooved for high risk individuals which is a good sign for the company"
   ]
  },
  {
   "cell_type": "code",
   "execution_count": 160,
   "id": "a9268b66",
   "metadata": {},
   "outputs": [
    {
     "data": {
      "image/png": "[encoded data removed]",
      "text/plain": [
       "<Figure size 640x480 with 1 Axes>"
      ]
     },
     "metadata": {},
     "output_type": "display_data"
    }
   ],
   "source": [
    "##Anlysis based on Loan issue date###\n",
    "df['issue_d'] = pd.to_datetime(df['issue_d'],format='%b-%y')\n",
    "df['issue_year'] = df['issue_d'].dt.year\n",
    "df['issue_month'] = df['issue_d'].dt.month\n",
    "df['issue_year'].value_counts().plot.bar()\n",
    "plt.show()\n",
    "\n",
    "#Number of sanctioned loans are exponentially increasing over a period from 2007 to 2011"
   ]
  },
  {
   "cell_type": "code",
   "execution_count": 161,
   "id": "39e8253e",
   "metadata": {},
   "outputs": [
    {
     "data": {
      "image/png": "[encoded data removed]",
      "text/plain": [
       "<Figure size 640x480 with 1 Axes>"
      ]
     },
     "metadata": {},
     "output_type": "display_data"
    }
   ],
   "source": [
    "##Find for which month more loans are disbursed in 2011##\n",
    "df_2011 = df[df['issue_year'] == 2011]\n",
    "df_2011.sort_values(by='issue_month')\n",
    "df_2011['issue_month'].value_counts().plot.bar()\n",
    "plt.show()\n",
    "\n",
    "#Loan disbursement gradually increases from starting to the end of year in 2011.Maximum disbursement happened on december."
   ]
  },
  {
   "cell_type": "code",
   "execution_count": 163,
   "id": "69aae9ce",
   "metadata": {},
   "outputs": [
    {
     "data": {
      "image/png": "[encoded data removed]",
      "text/plain": [
       "<Figure size 640x480 with 1 Axes>"
      ]
     },
     "metadata": {},
     "output_type": "display_data"
    }
   ],
   "source": [
    "##Lets analyse another ordered categorical variable as loan payment date####\n",
    "df['las_payment_year'] = df['last_pymnt_d'].dt.year\n",
    "df['las_payment_month'] = df['last_pymnt_d'].dt.month\n",
    "df = df.sort_values(by='las_payment_year')\n",
    "sns.histplot(df['las_payment_year'])\n",
    "plt.show()\n",
    "#Number of payments done gradually increases from 2008 to 2013 where it peaks and then gradually decreases till 2016"
   ]
  },
  {
   "cell_type": "code",
   "execution_count": null,
   "id": "d1a101f1",
   "metadata": {},
   "outputs": [],
   "source": []
  }
 ],
 "metadata": {
  "kernelspec": {
   "display_name": "Python 3 (ipykernel)",
   "language": "python",
   "name": "python3"
  },
  "language_info": {
   "codemirror_mode": {
    "name": "ipython",
    "version": 3
   },
   "file_extension": ".py",
   "mimetype": "text/x-python",
   "name": "python",
   "nbconvert_exporter": "python",
   "pygments_lexer": "ipython3",
   "version": "3.11.5"
  }
 },
 "nbformat": 4,
 "nbformat_minor": 5
}
